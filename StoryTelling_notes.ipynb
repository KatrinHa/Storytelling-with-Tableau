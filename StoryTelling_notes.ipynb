{
 "cells": [
  {
   "cell_type": "markdown",
   "metadata": {},
   "source": [
    "# Udacity Tableau Storytelling (September 2018)\n",
    "\n",
    "### Dataset\n",
    "The dataset for the United State flight delays and performance are orginally taken from the United States Department of Transportation/ Bureau of Transportation Statistics http://stat-computing.org/dataexpo/2009/the-data.html.\n",
    "\n",
    "\n",
    "\n",
    "### Goal\n",
    "Analysis of the performance of 20 airlines and 304 airports with Tableau.\n"
   ]
  },
  {
   "cell_type": "markdown",
   "metadata": {},
   "source": [
    "### 1. Summary\n",
    "\n",
    "In this analysis I used TableauPublic to investigate a given dataset from RITA (http://stat-computing.org/dataexpo/2009/the-data.html) to analyze data for flights within the United States of America for the year 2008. The leading question here was \"Which is the best day of the week and the best Airline to fly from San Francisco (SFO) to New York (JFK). \"Best\" means, that I wanted to avoid delays for Arrival and Departure as well as canceled or diverted flights. For the airlines I choose the five major U.S. Airlines (compared to google). \n"
   ]
  },
  {
   "cell_type": "markdown",
   "metadata": {},
   "source": [
    "### 2. Story - Best choice from east to west coast\n",
    "\n",
    "\n",
    "This Tableau story is about flights within the U.S. in the year 2008 for two destinations, one on the east coast and one on the west coast. These are John F. Kennedy International Airport (JFK) in New York for the east coast and San Francisco International Airport (SFO) in San Francisco for the west coast. In the story I want to show the number of flights per day of the week and per month. There you can easily see on which weekday and in which month there are the most flights. I'm going to investigate further the delays for arrival and departure of flights for both airports, than going to see how many flights in 2008 were canceled or diverted. With these informations I can finally show which weekday(s) and Airline(s) from the 5 major airlines might be the best choice to fly from San Francisco International Airport (SFO) to John F. Kennedy International Airport (JFK)."
   ]
  },
  {
   "cell_type": "markdown",
   "metadata": {},
   "source": [
    "### 3. Design\n",
    "\n",
    "For my first visualization I choose line charts and bar charts to tell the story. I decided for color encodings for destinations and carrier names (airlines) for easily differnciate between those. \n",
    "\n",
    "Following is described my final visualization, where I choose line charts and bar charts again. For the first sketch I choose line-charts, because the distribution is for flights over a time period (weekday and year). I decided for a color encoding for the destinations to easily seperate the lines in the plot. The line charts here are also good to see the changing between the days and month, so you'll have a immediately impression on which day or in which month are more or less flights. You can also explore possibly different patterns between the destinations. In my second sketch I have line charts again with color encodings for the destination to see the delays in minutes for day of the week for JFK and SFO. For the third sketch I coose bar charts for the distribution of the arrival and departure delay in minutes. For the y-axis I added the carrier/ airline. Here I decided for 5 major airlines, so the plot is not overcrowed with information. Again I encoded the destinations with color and added the delayed minutes as numbers to the plot. In the fourth sketch I have a bar chart with color encoding for the number of canceled and diverted flights for the choosen destinations compared to the total number of flights. All totals you can easy see as numbers printed in the plot where the color encoding helps to visulize this. In the fifth sketch I have a bar chart for the on-time arrival and departure of flights per airline with color encoding for on-time performance and added percent for minimum and maximum. In the last sketch I choose a line chart to show the best airline and day of the week compared to delays, canceled and diverted flights. I highlighted the airline I would choose based on the data for 2008. \n",
    "\n",
    "For my final visualization I changed my sketches accordingly to the feedback I was given. I seperated my slides and added more sketches. There I choose color encoding including highlights, percent and total numbers, tooltips, calculated fields as well as adding a better storyline and descriptive axis."
   ]
  },
  {
   "cell_type": "markdown",
   "metadata": {},
   "source": [
    "### 4. Feedback\n",
    "\n",
    "##### 1st feedback\n",
    "\n",
    "* too many vizzes per slide\n",
    "* story was not clear enough, should give an introduction first\n",
    "* think about the order of the slides\n",
    "\n",
    "##### 2nd feedback\n",
    "\n",
    "* explain the story and the aim of the story in the beginning\n",
    "* number of total are easier to understand\n",
    "* highlight the bar, which I want to highlight in my story\n",
    "* clear and consistent axis and title\n",
    "\n",
    "##### Final feedback\n",
    "\n",
    "* looks awesome\n"
   ]
  },
  {
   "cell_type": "markdown",
   "metadata": {},
   "source": [
    "### 5. Links to Visualizations\n",
    "\n",
    "##### Initial Version of Visualization\n",
    "https://public.tableau.com/profile/katrin7722#!/vizhome/2008_StoryV1/Story1\n",
    "\n",
    "##### Final Version of Visualization\n",
    "https://public.tableau.com/profile/katrin7722#!/vizhome/2008_Story3/Story3"
   ]
  },
  {
   "cell_type": "markdown",
   "metadata": {},
   "source": [
    "### 6. List of Ressources\n",
    "\n",
    "(1) evolytics.com\n",
    "(2) doingdata.org\n",
    "(3) tableau.com\n",
    "(4) stackoverflow.com\n",
    "(5) en.wikipedia.org"
   ]
  }
 ],
 "metadata": {
  "kernelspec": {
   "display_name": "Python 3",
   "language": "python",
   "name": "python3"
  },
  "language_info": {
   "codemirror_mode": {
    "name": "ipython",
    "version": 3
   },
   "file_extension": ".py",
   "mimetype": "text/x-python",
   "name": "python",
   "nbconvert_exporter": "python",
   "pygments_lexer": "ipython3",
   "version": "3.7.3"
  }
 },
 "nbformat": 4,
 "nbformat_minor": 2
}
